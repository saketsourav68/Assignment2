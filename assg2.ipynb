{
  "nbformat": 4,
  "nbformat_minor": 0,
  "metadata": {
    "colab": {
      "name": "assg2.ipynb",
      "provenance": []
    },
    "kernelspec": {
      "name": "python3",
      "display_name": "Python 3"
    }
  },
  "cells": [
    {
      "cell_type": "markdown",
      "metadata": {
        "id": "QtsoR_6zh2XZ"
      },
      "source": [
        "ASSIGNMENT 2"
      ]
    },
    {
      "cell_type": "code",
      "metadata": {
        "colab": {
          "base_uri": "https://localhost:8080/"
        },
        "id": "kjeFFyNdh8Pz",
        "outputId": "ab86bbb6-08fb-4a14-9ab0-6130da60bf7f"
      },
      "source": [
        "alt=1000\r\n",
        "if alt==1000:\r\n",
        "  print(\"safe to land\")\r\n",
        "elif alt<1000:\r\n",
        "  print(\"land the plane\")\r\n",
        "elif alt>1000 and alt<5000:\r\n",
        "  print(\"come down to 1000ft\")\r\n",
        "else:\r\n",
        "  print(\"go around and try later\")\r\n"
      ],
      "execution_count": 12,
      "outputs": [
        {
          "output_type": "stream",
          "text": [
            "safe to land\n"
          ],
          "name": "stdout"
        }
      ]
    },
    {
      "cell_type": "code",
      "metadata": {
        "colab": {
          "base_uri": "https://localhost:8080/"
        },
        "id": "raHuvKEcl1MJ",
        "outputId": "d59a18af-d151-4afc-9e82-0cd5d75f573c"
      },
      "source": [
        "alt=4500\r\n",
        "if alt==1000:\r\n",
        "  print(\"safe to land\")\r\n",
        "elif alt<1000:\r\n",
        "  print(\"land the plane\")\r\n",
        "elif alt>1000 and alt<5000:\r\n",
        "  print(\"come down to 1000ft\")\r\n",
        "else:\r\n",
        "  print(\"go around and try later\")\r\n"
      ],
      "execution_count": 13,
      "outputs": [
        {
          "output_type": "stream",
          "text": [
            "come down to 1000ft\n"
          ],
          "name": "stdout"
        }
      ]
    },
    {
      "cell_type": "code",
      "metadata": {
        "colab": {
          "base_uri": "https://localhost:8080/"
        },
        "id": "oBpCs-nPmGVL",
        "outputId": "c7cffafe-8efb-41ed-ff7e-32517f922d85"
      },
      "source": [
        "alt=6500\r\n",
        "if alt==1000:\r\n",
        "  print(\"safe to land\")\r\n",
        "elif alt<1000:\r\n",
        "  print(\"land the plane\")\r\n",
        "elif alt>1000 and alt<5000:\r\n",
        "  print(\"come down to 1000ft\")\r\n",
        "else:\r\n",
        "  print(\"go around and try later\")\r\n"
      ],
      "execution_count": 14,
      "outputs": [
        {
          "output_type": "stream",
          "text": [
            "go around and try later\n"
          ],
          "name": "stdout"
        }
      ]
    },
    {
      "cell_type": "code",
      "metadata": {
        "colab": {
          "base_uri": "https://localhost:8080/"
        },
        "id": "2VMW-t2lma7B",
        "outputId": "fa574c29-8d68-446f-b85f-07c518c9105d"
      },
      "source": [
        "alt=500\r\n",
        "if alt==1000:\r\n",
        "  print(\"safe to land\")\r\n",
        "elif alt<1000:\r\n",
        "  print(\"land the plane\")\r\n",
        "elif alt>1000 and alt<5000:\r\n",
        "  print(\"come down to 1000ft\")\r\n",
        "else:\r\n",
        "  print(\"go around and try later\")\r\n"
      ],
      "execution_count": 15,
      "outputs": [
        {
          "output_type": "stream",
          "text": [
            "land the plane\n"
          ],
          "name": "stdout"
        }
      ]
    }
  ]
}